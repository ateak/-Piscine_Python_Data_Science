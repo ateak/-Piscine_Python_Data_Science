{
  "nbformat": 4,
  "nbformat_minor": 0,
  "metadata": {
    "colab": {
      "provenance": []
    },
    "kernelspec": {
      "name": "python3",
      "display_name": "Python 3"
    },
    "language_info": {
      "name": "python"
    }
  },
  "cells": [
    {
      "cell_type": "code",
      "execution_count": 1,
      "metadata": {
        "id": "Vm45A1vX3Y6z"
      },
      "outputs": [],
      "source": [
        "import pandas as pd\n",
        "import sqlite3"
      ]
    },
    {
      "cell_type": "markdown",
      "source": [
        "С помощью sqlite3.connect создадим объект типа Connection"
      ],
      "metadata": {
        "id": "H330MNgL31W2"
      }
    },
    {
      "cell_type": "code",
      "source": [
        "connect = sqlite3.connect('../data/checking-logs.sqlite')\n",
        "connect"
      ],
      "metadata": {
        "colab": {
          "base_uri": "https://localhost:8080/"
        },
        "id": "400mzN8R32em",
        "outputId": "1731b437-f5a2-431e-ef02-e06f87d5f80f"
      },
      "execution_count": 2,
      "outputs": [
        {
          "output_type": "execute_result",
          "data": {
            "text/plain": [
              "<sqlite3.Connection at 0x7fc86d34b730>"
            ]
          },
          "metadata": {},
          "execution_count": 2
        }
      ]
    },
    {
      "cell_type": "markdown",
      "source": [
        "Создадим новую таблицу datamart в базе данных, объединив просмотры страниц таблиц и проверку с использованием одного запроса\n",
        "\n",
        "◦ в таблице должны быть следующие столбцы: uid, labname, first_commit_ts, first_view_ts\n",
        "\n",
        "фильтры те же:\n",
        "\n",
        "∗ status = ’ready’\n",
        "\n",
        "∗ numTrials = 1\n",
        "\n",
        "◦ таблица должна содержать только пользователей (uid с user_*), а не администраторов\n",
        "\n",
        "◦ first_commit_ts и first_view_ts должны быть проанализированы как datetime64[ns]"
      ],
      "metadata": {
        "id": "BUDiDgzE4Brm"
      }
    },
    {
      "cell_type": "code",
      "source": [
        "request = '''\n",
        "SELECT checker.uid,\n",
        "       checker.labname,\n",
        "       checker.timestamp AS first_commit_ts,\n",
        "       pageviews.datetime AS first_view_ts\n",
        "FROM checker \n",
        "LEFT JOIN pageviews ON checker.uid=pageviews.uid\n",
        "WHERE status='ready'\n",
        "AND numTrials=1\n",
        "AND labname IN ('laba04', 'laba04s', 'laba05', 'laba06', 'laba06s', 'project1')\n",
        "AND checker.uid LIKE 'user_%'\n",
        "AND (pageviews.datetime = (SELECT MIN(pageviews.datetime)\n",
        "                           FROM pageviews\n",
        "                           WHERE uid=checker.uid)\n",
        "        OR pageviews.datetime IS NULL)\n",
        "'''\n",
        "datamart = pd.io.sql.read_sql(request, connect, parse_dates=[\n",
        "                              'first_commit_ts', 'first_view_ts'])\n",
        "datamart"
      ],
      "metadata": {
        "colab": {
          "base_uri": "https://localhost:8080/",
          "height": 423
        },
        "id": "mUSgqgrj4DiG",
        "outputId": "f6014439-8f91-40a0-83eb-bdfea59385b9"
      },
      "execution_count": 3,
      "outputs": [
        {
          "output_type": "execute_result",
          "data": {
            "text/plain": [
              "         uid   labname            first_commit_ts              first_view_ts\n",
              "0     user_4  project1 2020-04-17 05:19:02.744528                        NaT\n",
              "1     user_4    laba04 2020-04-17 11:33:17.366400                        NaT\n",
              "2     user_4   laba04s 2020-04-17 11:48:41.992466                        NaT\n",
              "3    user_17  project1 2020-04-18 07:56:45.408648 2020-04-18 10:56:55.833899\n",
              "4    user_30    laba04 2020-04-18 13:36:53.971502 2020-04-17 22:46:26.785035\n",
              "..       ...       ...                        ...                        ...\n",
              "135  user_23    laba06 2020-05-21 08:34:10.517205                        NaT\n",
              "136  user_19   laba06s 2020-05-21 13:27:06.705881 2020-04-21 20:30:38.034966\n",
              "137  user_23   laba06s 2020-05-21 14:29:15.709568                        NaT\n",
              "138  user_17    laba06 2020-05-21 15:21:31.567615 2020-04-18 10:56:55.833899\n",
              "139  user_17   laba06s 2020-05-21 17:39:17.783615 2020-04-18 10:56:55.833899\n",
              "\n",
              "[140 rows x 4 columns]"
            ],
            "text/html": [
              "\n",
              "  <div id=\"df-0d58ad04-910e-472a-80cb-d427871d33b4\">\n",
              "    <div class=\"colab-df-container\">\n",
              "      <div>\n",
              "<style scoped>\n",
              "    .dataframe tbody tr th:only-of-type {\n",
              "        vertical-align: middle;\n",
              "    }\n",
              "\n",
              "    .dataframe tbody tr th {\n",
              "        vertical-align: top;\n",
              "    }\n",
              "\n",
              "    .dataframe thead th {\n",
              "        text-align: right;\n",
              "    }\n",
              "</style>\n",
              "<table border=\"1\" class=\"dataframe\">\n",
              "  <thead>\n",
              "    <tr style=\"text-align: right;\">\n",
              "      <th></th>\n",
              "      <th>uid</th>\n",
              "      <th>labname</th>\n",
              "      <th>first_commit_ts</th>\n",
              "      <th>first_view_ts</th>\n",
              "    </tr>\n",
              "  </thead>\n",
              "  <tbody>\n",
              "    <tr>\n",
              "      <th>0</th>\n",
              "      <td>user_4</td>\n",
              "      <td>project1</td>\n",
              "      <td>2020-04-17 05:19:02.744528</td>\n",
              "      <td>NaT</td>\n",
              "    </tr>\n",
              "    <tr>\n",
              "      <th>1</th>\n",
              "      <td>user_4</td>\n",
              "      <td>laba04</td>\n",
              "      <td>2020-04-17 11:33:17.366400</td>\n",
              "      <td>NaT</td>\n",
              "    </tr>\n",
              "    <tr>\n",
              "      <th>2</th>\n",
              "      <td>user_4</td>\n",
              "      <td>laba04s</td>\n",
              "      <td>2020-04-17 11:48:41.992466</td>\n",
              "      <td>NaT</td>\n",
              "    </tr>\n",
              "    <tr>\n",
              "      <th>3</th>\n",
              "      <td>user_17</td>\n",
              "      <td>project1</td>\n",
              "      <td>2020-04-18 07:56:45.408648</td>\n",
              "      <td>2020-04-18 10:56:55.833899</td>\n",
              "    </tr>\n",
              "    <tr>\n",
              "      <th>4</th>\n",
              "      <td>user_30</td>\n",
              "      <td>laba04</td>\n",
              "      <td>2020-04-18 13:36:53.971502</td>\n",
              "      <td>2020-04-17 22:46:26.785035</td>\n",
              "    </tr>\n",
              "    <tr>\n",
              "      <th>...</th>\n",
              "      <td>...</td>\n",
              "      <td>...</td>\n",
              "      <td>...</td>\n",
              "      <td>...</td>\n",
              "    </tr>\n",
              "    <tr>\n",
              "      <th>135</th>\n",
              "      <td>user_23</td>\n",
              "      <td>laba06</td>\n",
              "      <td>2020-05-21 08:34:10.517205</td>\n",
              "      <td>NaT</td>\n",
              "    </tr>\n",
              "    <tr>\n",
              "      <th>136</th>\n",
              "      <td>user_19</td>\n",
              "      <td>laba06s</td>\n",
              "      <td>2020-05-21 13:27:06.705881</td>\n",
              "      <td>2020-04-21 20:30:38.034966</td>\n",
              "    </tr>\n",
              "    <tr>\n",
              "      <th>137</th>\n",
              "      <td>user_23</td>\n",
              "      <td>laba06s</td>\n",
              "      <td>2020-05-21 14:29:15.709568</td>\n",
              "      <td>NaT</td>\n",
              "    </tr>\n",
              "    <tr>\n",
              "      <th>138</th>\n",
              "      <td>user_17</td>\n",
              "      <td>laba06</td>\n",
              "      <td>2020-05-21 15:21:31.567615</td>\n",
              "      <td>2020-04-18 10:56:55.833899</td>\n",
              "    </tr>\n",
              "    <tr>\n",
              "      <th>139</th>\n",
              "      <td>user_17</td>\n",
              "      <td>laba06s</td>\n",
              "      <td>2020-05-21 17:39:17.783615</td>\n",
              "      <td>2020-04-18 10:56:55.833899</td>\n",
              "    </tr>\n",
              "  </tbody>\n",
              "</table>\n",
              "<p>140 rows × 4 columns</p>\n",
              "</div>\n",
              "      <button class=\"colab-df-convert\" onclick=\"convertToInteractive('df-0d58ad04-910e-472a-80cb-d427871d33b4')\"\n",
              "              title=\"Convert this dataframe to an interactive table.\"\n",
              "              style=\"display:none;\">\n",
              "        \n",
              "  <svg xmlns=\"http://www.w3.org/2000/svg\" height=\"24px\"viewBox=\"0 0 24 24\"\n",
              "       width=\"24px\">\n",
              "    <path d=\"M0 0h24v24H0V0z\" fill=\"none\"/>\n",
              "    <path d=\"M18.56 5.44l.94 2.06.94-2.06 2.06-.94-2.06-.94-.94-2.06-.94 2.06-2.06.94zm-11 1L8.5 8.5l.94-2.06 2.06-.94-2.06-.94L8.5 2.5l-.94 2.06-2.06.94zm10 10l.94 2.06.94-2.06 2.06-.94-2.06-.94-.94-2.06-.94 2.06-2.06.94z\"/><path d=\"M17.41 7.96l-1.37-1.37c-.4-.4-.92-.59-1.43-.59-.52 0-1.04.2-1.43.59L10.3 9.45l-7.72 7.72c-.78.78-.78 2.05 0 2.83L4 21.41c.39.39.9.59 1.41.59.51 0 1.02-.2 1.41-.59l7.78-7.78 2.81-2.81c.8-.78.8-2.07 0-2.86zM5.41 20L4 18.59l7.72-7.72 1.47 1.35L5.41 20z\"/>\n",
              "  </svg>\n",
              "      </button>\n",
              "      \n",
              "  <style>\n",
              "    .colab-df-container {\n",
              "      display:flex;\n",
              "      flex-wrap:wrap;\n",
              "      gap: 12px;\n",
              "    }\n",
              "\n",
              "    .colab-df-convert {\n",
              "      background-color: #E8F0FE;\n",
              "      border: none;\n",
              "      border-radius: 50%;\n",
              "      cursor: pointer;\n",
              "      display: none;\n",
              "      fill: #1967D2;\n",
              "      height: 32px;\n",
              "      padding: 0 0 0 0;\n",
              "      width: 32px;\n",
              "    }\n",
              "\n",
              "    .colab-df-convert:hover {\n",
              "      background-color: #E2EBFA;\n",
              "      box-shadow: 0px 1px 2px rgba(60, 64, 67, 0.3), 0px 1px 3px 1px rgba(60, 64, 67, 0.15);\n",
              "      fill: #174EA6;\n",
              "    }\n",
              "\n",
              "    [theme=dark] .colab-df-convert {\n",
              "      background-color: #3B4455;\n",
              "      fill: #D2E3FC;\n",
              "    }\n",
              "\n",
              "    [theme=dark] .colab-df-convert:hover {\n",
              "      background-color: #434B5C;\n",
              "      box-shadow: 0px 1px 3px 1px rgba(0, 0, 0, 0.15);\n",
              "      filter: drop-shadow(0px 1px 2px rgba(0, 0, 0, 0.3));\n",
              "      fill: #FFFFFF;\n",
              "    }\n",
              "  </style>\n",
              "\n",
              "      <script>\n",
              "        const buttonEl =\n",
              "          document.querySelector('#df-0d58ad04-910e-472a-80cb-d427871d33b4 button.colab-df-convert');\n",
              "        buttonEl.style.display =\n",
              "          google.colab.kernel.accessAllowed ? 'block' : 'none';\n",
              "\n",
              "        async function convertToInteractive(key) {\n",
              "          const element = document.querySelector('#df-0d58ad04-910e-472a-80cb-d427871d33b4');\n",
              "          const dataTable =\n",
              "            await google.colab.kernel.invokeFunction('convertToInteractive',\n",
              "                                                     [key], {});\n",
              "          if (!dataTable) return;\n",
              "\n",
              "          const docLinkHtml = 'Like what you see? Visit the ' +\n",
              "            '<a target=\"_blank\" href=https://colab.research.google.com/notebooks/data_table.ipynb>data table notebook</a>'\n",
              "            + ' to learn more about interactive tables.';\n",
              "          element.innerHTML = '';\n",
              "          dataTable['output_type'] = 'display_data';\n",
              "          await google.colab.output.renderOutput(dataTable, element);\n",
              "          const docLink = document.createElement('div');\n",
              "          docLink.innerHTML = docLinkHtml;\n",
              "          element.appendChild(docLink);\n",
              "        }\n",
              "      </script>\n",
              "    </div>\n",
              "  </div>\n",
              "  "
            ]
          },
          "metadata": {},
          "execution_count": 3
        }
      ]
    },
    {
      "cell_type": "markdown",
      "source": [
        "Создадим два фрейма данных: тестовый и контрольный:\n",
        "\n",
        "у тестового должны быть пользователи, у которых есть значения в first_view_ts\n",
        "\n",
        "у контрольного должны быть пользователи, у которых отсутствуют значения в first_view_ts"
      ],
      "metadata": {
        "id": "W8sBgmhM4LU2"
      }
    },
    {
      "cell_type": "code",
      "source": [
        "test = datamart[datamart['first_view_ts'].notnull()]\n",
        "control = datamart[datamart['first_view_ts'].isnull()]"
      ],
      "metadata": {
        "id": "olQXlYew4MC2"
      },
      "execution_count": 4,
      "outputs": []
    },
    {
      "cell_type": "markdown",
      "source": [
        "Найдем среднее значения first_view_ts"
      ],
      "metadata": {
        "id": "oTLm1rgm4P5F"
      }
    },
    {
      "cell_type": "code",
      "source": [
        "replase_arg = test['first_view_ts'].mean()\n",
        "replase_arg"
      ],
      "metadata": {
        "colab": {
          "base_uri": "https://localhost:8080/"
        },
        "id": "w-NfLCx44Q_m",
        "outputId": "a689d995-a069-444f-e1a0-59f2ab9b0d79"
      },
      "execution_count": 5,
      "outputs": [
        {
          "output_type": "execute_result",
          "data": {
            "text/plain": [
              "Timestamp('2020-04-27 00:40:05.761783552')"
            ]
          },
          "metadata": {},
          "execution_count": 5
        }
      ]
    },
    {
      "cell_type": "markdown",
      "source": [
        "Заменим недостающие значения на средние"
      ],
      "metadata": {
        "id": "ESlALj1L4Uk1"
      }
    },
    {
      "cell_type": "code",
      "source": [
        "control = control.fillna(test['first_view_ts'].mean())"
      ],
      "metadata": {
        "id": "ll_m3GH84YXV"
      },
      "execution_count": 6,
      "outputs": []
    },
    {
      "cell_type": "markdown",
      "source": [
        "Сохраним обе таблицы в базе данных"
      ],
      "metadata": {
        "id": "MTfvVYxu4abA"
      }
    },
    {
      "cell_type": "code",
      "source": [
        "test.to_sql('test', connect)\n",
        "control.to_sql('control', connect)"
      ],
      "metadata": {
        "id": "TlkiD_FB4bX-"
      },
      "execution_count": 7,
      "outputs": []
    },
    {
      "cell_type": "markdown",
      "source": [
        "Закроем соединение с базой данных"
      ],
      "metadata": {
        "id": "xeUPx_kY4hh2"
      }
    },
    {
      "cell_type": "code",
      "source": [
        "connect.close()"
      ],
      "metadata": {
        "id": "Wu1w-s6l4j7-"
      },
      "execution_count": 8,
      "outputs": []
    }
  ]
}