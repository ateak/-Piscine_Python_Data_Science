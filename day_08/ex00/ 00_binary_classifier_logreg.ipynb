{
 "cells": [
  {
   "cell_type": "markdown",
   "id": "be505404",
   "metadata": {},
   "source": [
    "Бинарный классификатор. Логистическая регрессия"
   ]
  },
  {
   "cell_type": "markdown",
   "id": "6a68c58f",
   "metadata": {},
   "source": [
    "Импортируем необходимые библиотеки:\n",
    "pandas - программная библиотека для обработки и анализа данных\n",
    "matplotlib — библиотека на языке программирования Python для визуализации данных двумерной и трёхмерной графикой\n",
    "(модуль pyplot отвечает за отображение разных графиков)\n",
    "scikit-learn – это библиотека, широко используемая в машинном обучении. Она предоставляет значения для данных предварительной обработки, уменьшает размерность, реализует регрессию, классификацию, кластеризацию и т.д. "
   ]
  },
  {
   "cell_type": "code",
   "execution_count": 1,
   "id": "c0a668f7",
   "metadata": {},
   "outputs": [],
   "source": [
    "import pandas as pd\n",
    "import matplotlib.pyplot as plt\n",
    "from sklearn.linear_model import LogisticRegression\n",
    "from sklearn.metrics import accuracy_score"
   ]
  },
  {
   "cell_type": "markdown",
   "id": "3e29426d",
   "metadata": {},
   "source": [
    "Этап предварительной обработки данных\n",
    "\n",
    "Получаем данные из файла checker-timestamp.csv.\n",
    "Создаем фрейм данных df с колонками: date, am, pm, target, где date это дата дня, am - количество коммитов в течение дня до полудня (integer), pm - количество коммитов в течение дня после полудня (integer), target - выходной/рабочий день."
   ]
  },
  {
   "cell_type": "code",
   "execution_count": 4,
   "id": "d694f7be",
   "metadata": {},
   "outputs": [
    {
     "data": {
      "text/html": [
       "<div>\n",
       "<style scoped>\n",
       "    .dataframe tbody tr th:only-of-type {\n",
       "        vertical-align: middle;\n",
       "    }\n",
       "\n",
       "    .dataframe tbody tr th {\n",
       "        vertical-align: top;\n",
       "    }\n",
       "\n",
       "    .dataframe thead th {\n",
       "        text-align: right;\n",
       "    }\n",
       "</style>\n",
       "<table border=\"1\" class=\"dataframe\">\n",
       "  <thead>\n",
       "    <tr style=\"text-align: right;\">\n",
       "      <th></th>\n",
       "      <th>timestamp</th>\n",
       "    </tr>\n",
       "  </thead>\n",
       "  <tbody>\n",
       "    <tr>\n",
       "      <th>0</th>\n",
       "      <td>2020-04-17 05:19:02.744528</td>\n",
       "    </tr>\n",
       "    <tr>\n",
       "      <th>1</th>\n",
       "      <td>2020-04-17 05:22:35.249331</td>\n",
       "    </tr>\n",
       "    <tr>\n",
       "      <th>2</th>\n",
       "      <td>2020-04-17 05:22:45.549397</td>\n",
       "    </tr>\n",
       "    <tr>\n",
       "      <th>3</th>\n",
       "      <td>2020-04-17 05:34:14.691200</td>\n",
       "    </tr>\n",
       "    <tr>\n",
       "      <th>4</th>\n",
       "      <td>2020-04-17 05:34:24.422370</td>\n",
       "    </tr>\n",
       "    <tr>\n",
       "      <th>...</th>\n",
       "      <td>...</td>\n",
       "    </tr>\n",
       "    <tr>\n",
       "      <th>3202</th>\n",
       "      <td>2020-05-21 20:19:06.872761</td>\n",
       "    </tr>\n",
       "    <tr>\n",
       "      <th>3203</th>\n",
       "      <td>2020-05-21 20:22:41.785725</td>\n",
       "    </tr>\n",
       "    <tr>\n",
       "      <th>3204</th>\n",
       "      <td>2020-05-21 20:22:41.877806</td>\n",
       "    </tr>\n",
       "    <tr>\n",
       "      <th>3205</th>\n",
       "      <td>2020-05-21 20:37:00.129678</td>\n",
       "    </tr>\n",
       "    <tr>\n",
       "      <th>3206</th>\n",
       "      <td>2020-05-21 20:37:00.290491</td>\n",
       "    </tr>\n",
       "  </tbody>\n",
       "</table>\n",
       "<p>3207 rows × 1 columns</p>\n",
       "</div>"
      ],
      "text/plain": [
       "                      timestamp\n",
       "0    2020-04-17 05:19:02.744528\n",
       "1    2020-04-17 05:22:35.249331\n",
       "2    2020-04-17 05:22:45.549397\n",
       "3    2020-04-17 05:34:14.691200\n",
       "4    2020-04-17 05:34:24.422370\n",
       "...                         ...\n",
       "3202 2020-05-21 20:19:06.872761\n",
       "3203 2020-05-21 20:22:41.785725\n",
       "3204 2020-05-21 20:22:41.877806\n",
       "3205 2020-05-21 20:37:00.129678\n",
       "3206 2020-05-21 20:37:00.290491\n",
       "\n",
       "[3207 rows x 1 columns]"
      ]
     },
     "execution_count": 4,
     "metadata": {},
     "output_type": "execute_result"
    }
   ],
   "source": [
    "df = pd.read_csv('data/checker_timestamp.csv', parse_dates=['timestamp'])\n",
    "df"
   ]
  },
  {
   "cell_type": "code",
   "execution_count": 5,
   "id": "5d9d5414",
   "metadata": {},
   "outputs": [],
   "source": [
    "df['date'] = df['timestamp'].dt.date\n",
    "df['am'] = df['timestamp'].dt.hour.apply(lambda x: 1 if x < 12 else 0)\n",
    "df['pm'] = df['timestamp'].dt.hour.apply(lambda x: 1 if x >= 12 else 0)\n",
    "df['target'] = df['timestamp'].dt.dayofweek.apply(lambda x: 'working_day' if x < 5 else 'weekend')"
   ]
  },
  {
   "cell_type": "code",
   "execution_count": 6,
   "id": "edf976b2",
   "metadata": {},
   "outputs": [
    {
     "data": {
      "text/html": [
       "<div>\n",
       "<style scoped>\n",
       "    .dataframe tbody tr th:only-of-type {\n",
       "        vertical-align: middle;\n",
       "    }\n",
       "\n",
       "    .dataframe tbody tr th {\n",
       "        vertical-align: top;\n",
       "    }\n",
       "\n",
       "    .dataframe thead th {\n",
       "        text-align: right;\n",
       "    }\n",
       "</style>\n",
       "<table border=\"1\" class=\"dataframe\">\n",
       "  <thead>\n",
       "    <tr style=\"text-align: right;\">\n",
       "      <th></th>\n",
       "      <th>am</th>\n",
       "      <th>pm</th>\n",
       "      <th>target</th>\n",
       "    </tr>\n",
       "    <tr>\n",
       "      <th>date</th>\n",
       "      <th></th>\n",
       "      <th></th>\n",
       "      <th></th>\n",
       "    </tr>\n",
       "  </thead>\n",
       "  <tbody>\n",
       "    <tr>\n",
       "      <th>2020-04-17</th>\n",
       "      <td>21</td>\n",
       "      <td>2</td>\n",
       "      <td>working_day</td>\n",
       "    </tr>\n",
       "    <tr>\n",
       "      <th>2020-04-18</th>\n",
       "      <td>1</td>\n",
       "      <td>68</td>\n",
       "      <td>weekend</td>\n",
       "    </tr>\n",
       "    <tr>\n",
       "      <th>2020-04-19</th>\n",
       "      <td>18</td>\n",
       "      <td>15</td>\n",
       "      <td>weekend</td>\n",
       "    </tr>\n",
       "    <tr>\n",
       "      <th>2020-04-20</th>\n",
       "      <td>2</td>\n",
       "      <td>23</td>\n",
       "      <td>working_day</td>\n",
       "    </tr>\n",
       "    <tr>\n",
       "      <th>2020-04-21</th>\n",
       "      <td>0</td>\n",
       "      <td>25</td>\n",
       "      <td>working_day</td>\n",
       "    </tr>\n",
       "    <tr>\n",
       "      <th>2020-04-22</th>\n",
       "      <td>0</td>\n",
       "      <td>28</td>\n",
       "      <td>working_day</td>\n",
       "    </tr>\n",
       "    <tr>\n",
       "      <th>2020-04-23</th>\n",
       "      <td>10</td>\n",
       "      <td>33</td>\n",
       "      <td>working_day</td>\n",
       "    </tr>\n",
       "    <tr>\n",
       "      <th>2020-04-24</th>\n",
       "      <td>2</td>\n",
       "      <td>14</td>\n",
       "      <td>working_day</td>\n",
       "    </tr>\n",
       "    <tr>\n",
       "      <th>2020-04-25</th>\n",
       "      <td>30</td>\n",
       "      <td>74</td>\n",
       "      <td>weekend</td>\n",
       "    </tr>\n",
       "    <tr>\n",
       "      <th>2020-04-26</th>\n",
       "      <td>28</td>\n",
       "      <td>233</td>\n",
       "      <td>weekend</td>\n",
       "    </tr>\n",
       "    <tr>\n",
       "      <th>2020-04-27</th>\n",
       "      <td>4</td>\n",
       "      <td>2</td>\n",
       "      <td>working_day</td>\n",
       "    </tr>\n",
       "    <tr>\n",
       "      <th>2020-04-28</th>\n",
       "      <td>4</td>\n",
       "      <td>1</td>\n",
       "      <td>working_day</td>\n",
       "    </tr>\n",
       "    <tr>\n",
       "      <th>2020-04-29</th>\n",
       "      <td>0</td>\n",
       "      <td>17</td>\n",
       "      <td>working_day</td>\n",
       "    </tr>\n",
       "    <tr>\n",
       "      <th>2020-04-30</th>\n",
       "      <td>13</td>\n",
       "      <td>40</td>\n",
       "      <td>working_day</td>\n",
       "    </tr>\n",
       "    <tr>\n",
       "      <th>2020-05-01</th>\n",
       "      <td>8</td>\n",
       "      <td>52</td>\n",
       "      <td>working_day</td>\n",
       "    </tr>\n",
       "    <tr>\n",
       "      <th>2020-05-02</th>\n",
       "      <td>91</td>\n",
       "      <td>151</td>\n",
       "      <td>weekend</td>\n",
       "    </tr>\n",
       "    <tr>\n",
       "      <th>2020-05-03</th>\n",
       "      <td>47</td>\n",
       "      <td>133</td>\n",
       "      <td>weekend</td>\n",
       "    </tr>\n",
       "    <tr>\n",
       "      <th>2020-05-04</th>\n",
       "      <td>11</td>\n",
       "      <td>26</td>\n",
       "      <td>working_day</td>\n",
       "    </tr>\n",
       "    <tr>\n",
       "      <th>2020-05-05</th>\n",
       "      <td>81</td>\n",
       "      <td>58</td>\n",
       "      <td>working_day</td>\n",
       "    </tr>\n",
       "    <tr>\n",
       "      <th>2020-05-06</th>\n",
       "      <td>2</td>\n",
       "      <td>0</td>\n",
       "      <td>working_day</td>\n",
       "    </tr>\n",
       "    <tr>\n",
       "      <th>2020-05-07</th>\n",
       "      <td>14</td>\n",
       "      <td>38</td>\n",
       "      <td>working_day</td>\n",
       "    </tr>\n",
       "    <tr>\n",
       "      <th>2020-05-08</th>\n",
       "      <td>3</td>\n",
       "      <td>84</td>\n",
       "      <td>working_day</td>\n",
       "    </tr>\n",
       "    <tr>\n",
       "      <th>2020-05-09</th>\n",
       "      <td>0</td>\n",
       "      <td>86</td>\n",
       "      <td>weekend</td>\n",
       "    </tr>\n",
       "    <tr>\n",
       "      <th>2020-05-10</th>\n",
       "      <td>10</td>\n",
       "      <td>133</td>\n",
       "      <td>weekend</td>\n",
       "    </tr>\n",
       "    <tr>\n",
       "      <th>2020-05-11</th>\n",
       "      <td>3</td>\n",
       "      <td>183</td>\n",
       "      <td>working_day</td>\n",
       "    </tr>\n",
       "    <tr>\n",
       "      <th>2020-05-12</th>\n",
       "      <td>56</td>\n",
       "      <td>267</td>\n",
       "      <td>working_day</td>\n",
       "    </tr>\n",
       "    <tr>\n",
       "      <th>2020-05-13</th>\n",
       "      <td>6</td>\n",
       "      <td>205</td>\n",
       "      <td>working_day</td>\n",
       "    </tr>\n",
       "    <tr>\n",
       "      <th>2020-05-14</th>\n",
       "      <td>66</td>\n",
       "      <td>509</td>\n",
       "      <td>working_day</td>\n",
       "    </tr>\n",
       "    <tr>\n",
       "      <th>2020-05-15</th>\n",
       "      <td>10</td>\n",
       "      <td>0</td>\n",
       "      <td>working_day</td>\n",
       "    </tr>\n",
       "    <tr>\n",
       "      <th>2020-05-16</th>\n",
       "      <td>0</td>\n",
       "      <td>4</td>\n",
       "      <td>weekend</td>\n",
       "    </tr>\n",
       "    <tr>\n",
       "      <th>2020-05-17</th>\n",
       "      <td>2</td>\n",
       "      <td>46</td>\n",
       "      <td>weekend</td>\n",
       "    </tr>\n",
       "    <tr>\n",
       "      <th>2020-05-18</th>\n",
       "      <td>0</td>\n",
       "      <td>3</td>\n",
       "      <td>working_day</td>\n",
       "    </tr>\n",
       "    <tr>\n",
       "      <th>2020-05-19</th>\n",
       "      <td>20</td>\n",
       "      <td>14</td>\n",
       "      <td>working_day</td>\n",
       "    </tr>\n",
       "    <tr>\n",
       "      <th>2020-05-20</th>\n",
       "      <td>7</td>\n",
       "      <td>21</td>\n",
       "      <td>working_day</td>\n",
       "    </tr>\n",
       "    <tr>\n",
       "      <th>2020-05-21</th>\n",
       "      <td>1</td>\n",
       "      <td>48</td>\n",
       "      <td>working_day</td>\n",
       "    </tr>\n",
       "  </tbody>\n",
       "</table>\n",
       "</div>"
      ],
      "text/plain": [
       "            am   pm       target\n",
       "date                            \n",
       "2020-04-17  21    2  working_day\n",
       "2020-04-18   1   68      weekend\n",
       "2020-04-19  18   15      weekend\n",
       "2020-04-20   2   23  working_day\n",
       "2020-04-21   0   25  working_day\n",
       "2020-04-22   0   28  working_day\n",
       "2020-04-23  10   33  working_day\n",
       "2020-04-24   2   14  working_day\n",
       "2020-04-25  30   74      weekend\n",
       "2020-04-26  28  233      weekend\n",
       "2020-04-27   4    2  working_day\n",
       "2020-04-28   4    1  working_day\n",
       "2020-04-29   0   17  working_day\n",
       "2020-04-30  13   40  working_day\n",
       "2020-05-01   8   52  working_day\n",
       "2020-05-02  91  151      weekend\n",
       "2020-05-03  47  133      weekend\n",
       "2020-05-04  11   26  working_day\n",
       "2020-05-05  81   58  working_day\n",
       "2020-05-06   2    0  working_day\n",
       "2020-05-07  14   38  working_day\n",
       "2020-05-08   3   84  working_day\n",
       "2020-05-09   0   86      weekend\n",
       "2020-05-10  10  133      weekend\n",
       "2020-05-11   3  183  working_day\n",
       "2020-05-12  56  267  working_day\n",
       "2020-05-13   6  205  working_day\n",
       "2020-05-14  66  509  working_day\n",
       "2020-05-15  10    0  working_day\n",
       "2020-05-16   0    4      weekend\n",
       "2020-05-17   2   46      weekend\n",
       "2020-05-18   0    3  working_day\n",
       "2020-05-19  20   14  working_day\n",
       "2020-05-20   7   21  working_day\n",
       "2020-05-21   1   48  working_day"
      ]
     },
     "execution_count": 6,
     "metadata": {},
     "output_type": "execute_result"
    }
   ],
   "source": [
    "df = df.groupby(by=['date']).agg({'am': sum, 'pm': sum, 'target': 'last'})\n",
    "df"
   ]
  },
  {
   "cell_type": "code",
   "execution_count": 7,
   "id": "b068bda1",
   "metadata": {},
   "outputs": [
    {
     "name": "stdout",
     "output_type": "stream",
     "text": [
      "<class 'pandas.core.frame.DataFrame'>\n",
      "Index: 35 entries, 2020-04-17 to 2020-05-21\n",
      "Data columns (total 3 columns):\n",
      " #   Column  Non-Null Count  Dtype \n",
      "---  ------  --------------  ----- \n",
      " 0   am      35 non-null     int64 \n",
      " 1   pm      35 non-null     int64 \n",
      " 2   target  35 non-null     object\n",
      "dtypes: int64(2), object(1)\n",
      "memory usage: 1.1+ KB\n"
     ]
    }
   ],
   "source": [
    "df.info()"
   ]
  },
  {
   "cell_type": "markdown",
   "id": "4cf4ce08",
   "metadata": {},
   "source": [
    "Исследовательский анализ данных\n",
    "\n",
    "Создаем график, где x - am, y - pm, каждая точка - день, рабочие дни и выходные имеют разный цвет. "
   ]
  },
  {
   "cell_type": "code",
   "execution_count": 8,
   "id": "32e52106",
   "metadata": {},
   "outputs": [
    {
     "data": {
      "image/png": "[encoded data removed]",
      "text/plain": [
       "<Figure size 640x480 with 1 Axes>"
      ]
     },
     "metadata": {},
     "output_type": "display_data"
    }
   ],
   "source": [
    "plt.scatter(df['am'], df['pm'], c=[0 if i == 'working_day' else 1 for i in df['target']])\n",
    "plt.xlabel('x')\n",
    "plt.ylabel('y')\n",
    "plt.show()"
   ]
  },
  {
   "cell_type": "markdown",
   "id": "bdfd6587",
   "metadata": {},
   "source": [
    "Логистическая регрессия\n",
    "\n",
    "Используем am и pm, параметры: random state=21, fit_intercept=False\n",
    "Выстроим прогнозы на каждый день нашего набора данных и добавим их во фрейм данных как колонку predict.\n",
    "Сохраняем фрейм данных в файл в подпапку дня с названием am_pm.csv.\n",
    "Создаем другой график как делали ранее, но цвет берем из колонки predict.\n",
    "Исследуя график, выскажите мнение, насколько хороший прогноз получился: \"Да, прогноз верный\" или \"Нет, прогноз не очень верный\".\n"
   ]
  },
  {
   "cell_type": "code",
   "execution_count": 9,
   "id": "b5d94b5f",
   "metadata": {},
   "outputs": [],
   "source": [
    "X = df[['am', 'pm']].values\n",
    "y = df['target'].values"
   ]
  },
  {
   "cell_type": "code",
   "execution_count": 10,
   "id": "76cadc0e",
   "metadata": {},
   "outputs": [],
   "source": [
    "lr = LogisticRegression(random_state=21, fit_intercept=False)\n",
    "lr.fit(X, y)\n",
    "y_pred = lr.predict(X)"
   ]
  },
  {
   "cell_type": "code",
   "execution_count": 11,
   "id": "c5642a91",
   "metadata": {},
   "outputs": [],
   "source": [
    "df['predict'] = y_pred\n",
    "df.to_csv('data/am_pm.csv')"
   ]
  },
  {
   "cell_type": "code",
   "execution_count": 12,
   "id": "dea00560",
   "metadata": {},
   "outputs": [
    {
     "data": {
      "image/png": "[encoded data removed]",
      "text/plain": [
       "<Figure size 640x480 with 1 Axes>"
      ]
     },
     "metadata": {},
     "output_type": "display_data"
    }
   ],
   "source": [
    "plt.scatter(df['am'], df['pm'], c=[0 if i == 'working_day' else 1 for i in df['predict']])\n",
    "plt.xlabel('x')\n",
    "plt.ylabel('y')\n",
    "plt.show()"
   ]
  },
  {
   "cell_type": "markdown",
   "id": "ae3041dd",
   "metadata": {},
   "source": [
    "Нет, прогноз не очень верный"
   ]
  },
  {
   "cell_type": "markdown",
   "id": "8d2a388c",
   "metadata": {},
   "source": [
    "Оценка\n",
    "\n",
    "Рассчитаем точность наших прогнозов.\n",
    "Рассчитаем точность в случае, когда каждый прогноз - значение наиболее популярного класса дня.\n",
    "Сравнивая точности, выскажите мнение, насколько хороший прогноз сделал классификатор: \"Да, прогноз верный\" или \"Нет, прогноз не очень верный\"."
   ]
  },
  {
   "cell_type": "code",
   "execution_count": 13,
   "id": "69898d34",
   "metadata": {},
   "outputs": [
    {
     "data": {
      "text/plain": [
       "0.6285714285714286"
      ]
     },
     "execution_count": 13,
     "metadata": {},
     "output_type": "execute_result"
    }
   ],
   "source": [
    "accuracy_score(y, y_pred)"
   ]
  },
  {
   "cell_type": "code",
   "execution_count": 14,
   "id": "9cf7d069",
   "metadata": {},
   "outputs": [
    {
     "data": {
      "text/plain": [
       "0.7142857142857143"
      ]
     },
     "execution_count": 14,
     "metadata": {},
     "output_type": "execute_result"
    }
   ],
   "source": [
    "accuracy_score(y, [df['target'].mode().values] * len(y))"
   ]
  },
  {
   "cell_type": "markdown",
   "id": "333d4889",
   "metadata": {},
   "source": [
    "Нет, прогноз не очень верный"
   ]
  }
 ],
 "metadata": {
  "kernelspec": {
   "display_name": "Python 3 (ipykernel)",
   "language": "python",
   "name": "python3"
  },
  "language_info": {
   "codemirror_mode": {
    "name": "ipython",
    "version": 3
   },
   "file_extension": ".py",
   "mimetype": "text/x-python",
   "name": "python",
   "nbconvert_exporter": "python",
   "pygments_lexer": "ipython3",
   "version": "3.9.10"
  }
 },
 "nbformat": 4,
 "nbformat_minor": 5
}
